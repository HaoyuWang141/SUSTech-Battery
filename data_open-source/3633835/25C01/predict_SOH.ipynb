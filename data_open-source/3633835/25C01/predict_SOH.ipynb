{
 "cells": [
  {
   "cell_type": "code",
   "execution_count": 1,
   "metadata": {},
   "outputs": [],
   "source": [
    "%load_ext autoreload\n",
    "%autoreload 2"
   ]
  },
  {
   "cell_type": "code",
   "execution_count": 3,
   "metadata": {},
   "outputs": [
    {
     "name": "stdout",
     "output_type": "stream",
     "text": [
      "cpu\n"
     ]
    }
   ],
   "source": [
    "import matplotlib.pyplot as plt\n",
    "import seaborn as sns\n",
    "import numpy as np\n",
    "import pandas as pd\n",
    "\n",
    "plt.style.use(style=\"seaborn-v0_8-talk\")\n",
    "sns.set_theme(style=\"darkgrid\")\n",
    "\n",
    "from battery_predictor_EIS import BatteryPredictor\n",
    "\n",
    "import torch\n",
    "import torch.nn as nn\n",
    "from torch.utils.data import Dataset, DataLoader, random_split\n",
    "from torchvision import transforms\n",
    "\n",
    "device = torch.device(\"cuda\" if torch.cuda.is_available() else \"cpu\")\n",
    "print(device)"
   ]
  },
  {
   "cell_type": "code",
   "execution_count": 39,
   "metadata": {},
   "outputs": [],
   "source": [
    "eis_curves = np.load('features.npy')\n",
    "capacity = np.load('capacity.npy')"
   ]
  },
  {
   "cell_type": "code",
   "execution_count": 122,
   "metadata": {},
   "outputs": [
    {
     "name": "stdout",
     "output_type": "stream",
     "text": [
      "torch.float32 torch.float32\n",
      "torch.Size([125, 20]) torch.Size([125])\n"
     ]
    }
   ],
   "source": [
    "X = torch.tensor(eis_curves[:125]).to(device)\n",
    "y = torch.tensor(capacity[:125]).to(device)\n",
    "X = X.float()\n",
    "y = y.float()\n",
    "print(X.dtype, y.dtype)\n",
    "\n",
    "print(X.shape, y.shape)"
   ]
  },
  {
   "cell_type": "code",
   "execution_count": 41,
   "metadata": {},
   "outputs": [
    {
     "name": "stdout",
     "output_type": "stream",
     "text": [
      "torch.Size([275, 20]) torch.Size([275])\n"
     ]
    }
   ],
   "source": [
    "y = y[0:X.shape[0]]\n",
    "print(X.shape, y.shape)"
   ]
  },
  {
   "cell_type": "code",
   "execution_count": 42,
   "metadata": {},
   "outputs": [
    {
     "name": "stdout",
     "output_type": "stream",
     "text": [
      "tensor(0.3463) tensor(0.6631)\n",
      "tensor(14.7701) tensor(37.2108)\n"
     ]
    }
   ],
   "source": [
    "print(X.min(), X.max())\n",
    "print(y.min(), y.max())"
   ]
  },
  {
   "cell_type": "code",
   "execution_count": 174,
   "metadata": {},
   "outputs": [],
   "source": [
    "class BatteryDataset(Dataset):\n",
    "    def __init__(self, X, y, transform=None):\n",
    "        self.X = X\n",
    "        self.y = y\n",
    "        self.transform = transform\n",
    "        self.X_norm, self.y_norm = transform(X, y)\n",
    "\n",
    "    def __len__(self):\n",
    "        return len(self.X)\n",
    "\n",
    "    def __getitem__(self, idx):\n",
    "        return self.X_norm[idx], self.y_norm[idx]"
   ]
  },
  {
   "cell_type": "code",
   "execution_count": 176,
   "metadata": {},
   "outputs": [],
   "source": [
    "# 自定义归一化转换函数\n",
    "class Normalize(object):\n",
    "    def __call__(self, X, y):\n",
    "        X_normalized = (X - X.min()) / (X.max() - X.min())\n",
    "        y_normalized = (y - y.min()) / (y.max() - y.min())\n",
    "        return X_normalized, y_normalized"
   ]
  },
  {
   "cell_type": "code",
   "execution_count": 44,
   "metadata": {},
   "outputs": [],
   "source": [
    "def normalize_0_1(array):\n",
    "    min_value = torch.min(array, axis=0)[0]\n",
    "    max_value = torch.max(array, axis=0)[0]\n",
    "    normalized_array = (array - min_value) / (max_value - min_value)\n",
    "    return normalized_array"
   ]
  },
  {
   "cell_type": "code",
   "execution_count": 51,
   "metadata": {},
   "outputs": [],
   "source": [
    "def normalize_zscore(array):\n",
    "    mean = torch.mean(array, axis=0)\n",
    "    std = torch.std(array, axis=0)\n",
    "    normalized_array = (array - mean) / std\n",
    "    return normalized_array"
   ]
  },
  {
   "cell_type": "code",
   "execution_count": 160,
   "metadata": {},
   "outputs": [],
   "source": [
    "X_norm = normalize_0_1(X)\n",
    "y_norm = normalize_0_1(y)\n",
    "\n",
    "# X_norm = normalize_zscore(X)\n",
    "# y_norm = normalize_zscore(y)\n"
   ]
  },
  {
   "cell_type": "code",
   "execution_count": 177,
   "metadata": {},
   "outputs": [],
   "source": [
    "dataset = BatteryDataset(X, y, transform=Normalize())\n",
    "\n",
    "train_size = int(0.8 * len(dataset))\n",
    "val_size = len(dataset) - train_size\n",
    "train_dataset, val_dataset = random_split(dataset, [train_size, val_size])\n",
    "\n",
    "batch_size = 16\n",
    "dataloader = DataLoader(dataset, batch_size=batch_size, shuffle=False)\n",
    "train_dataloader = DataLoader(dataset, batch_size=batch_size, shuffle=True)\n",
    "# val_dataloader = DataLoader(val_dataset, batch_size=batch_size, shuffle=False)\n",
    "\n",
    "# print(train_size, val_size)"
   ]
  },
  {
   "cell_type": "code",
   "execution_count": 178,
   "metadata": {},
   "outputs": [],
   "source": [
    "# 设置随机种子\n",
    "def set_seed(seed):\n",
    "    torch.manual_seed(seed)\n",
    "    # torch.cuda.manual_seed_all(seed)\n",
    "    np.random.seed(seed)\n",
    "    # random.seed(seed)\n",
    "    torch.backends.cudnn.deterministic = True\n",
    "    torch.backends.cudnn.benchmark = False\n"
   ]
  },
  {
   "cell_type": "code",
   "execution_count": 179,
   "metadata": {},
   "outputs": [],
   "source": [
    "set_seed(42)\n",
    "predictor = BatteryPredictor(X.shape[1])\n",
    "loss_list = []"
   ]
  },
  {
   "cell_type": "code",
   "execution_count": 180,
   "metadata": {},
   "outputs": [
    {
     "name": "stderr",
     "output_type": "stream",
     "text": [
      "Epoch: 1: 100%|██████████| 8/8 [00:00<00:00, 92.16it/s, loss=0.0434]\n",
      "Epoch: 2: 100%|██████████| 8/8 [00:00<00:00, 122.99it/s, loss=0.0291]\n",
      "Epoch: 3: 100%|██████████| 8/8 [00:00<00:00, 121.26it/s, loss=0.0797]\n",
      "Epoch: 4: 100%|██████████| 8/8 [00:00<00:00, 113.05it/s, loss=0.0292]\n",
      "Epoch: 5: 100%|██████████| 8/8 [00:00<00:00, 62.73it/s, loss=0.0284]\n",
      "Epoch: 6: 100%|██████████| 8/8 [00:00<00:00, 123.50it/s, loss=0.0705]\n",
      "Epoch: 7: 100%|██████████| 8/8 [00:00<00:00, 136.52it/s, loss=0.0433]\n",
      "Epoch: 8: 100%|██████████| 8/8 [00:00<00:00, 136.74it/s, loss=0.0203]\n",
      "Epoch: 9: 100%|██████████| 8/8 [00:00<00:00, 126.01it/s, loss=0.0707]\n",
      "Epoch: 10: 100%|██████████| 8/8 [00:00<00:00, 129.31it/s, loss=0.104]\n",
      "Epoch: 11: 100%|██████████| 8/8 [00:00<00:00, 145.40it/s, loss=0.04]\n",
      "Epoch: 12: 100%|██████████| 8/8 [00:00<00:00, 105.96it/s, loss=0.0671]\n",
      "Epoch: 13: 100%|██████████| 8/8 [00:00<00:00, 114.37it/s, loss=0.0521]\n",
      "Epoch: 14: 100%|██████████| 8/8 [00:00<00:00, 114.98it/s, loss=0.0223]\n",
      "Epoch: 15: 100%|██████████| 8/8 [00:00<00:00, 82.97it/s, loss=0.0421]\n",
      "Epoch: 16: 100%|██████████| 8/8 [00:00<00:00, 124.83it/s, loss=0.0239]\n",
      "Epoch: 17: 100%|██████████| 8/8 [00:00<00:00, 119.08it/s, loss=0.0449]\n",
      "Epoch: 18: 100%|██████████| 8/8 [00:00<00:00, 69.06it/s, loss=0.0556]\n",
      "Epoch: 19: 100%|██████████| 8/8 [00:00<00:00, 78.16it/s, loss=0.0524]\n",
      "Epoch: 20: 100%|██████████| 8/8 [00:00<00:00, 67.86it/s, loss=0.0231]\n",
      "Epoch: 21: 100%|██████████| 8/8 [00:00<00:00, 65.71it/s, loss=0.0283]\n",
      "Epoch: 22: 100%|██████████| 8/8 [00:00<00:00, 127.12it/s, loss=0.0225]\n",
      "Epoch: 23: 100%|██████████| 8/8 [00:00<00:00, 139.03it/s, loss=0.00484]\n",
      "Epoch: 24: 100%|██████████| 8/8 [00:00<00:00, 107.11it/s, loss=0.0212]\n",
      "Epoch: 25: 100%|██████████| 8/8 [00:00<00:00, 97.23it/s, loss=0.019]\n",
      "Epoch: 26: 100%|██████████| 8/8 [00:00<00:00, 91.22it/s, loss=0.0228]\n",
      "Epoch: 27: 100%|██████████| 8/8 [00:00<00:00, 100.08it/s, loss=0.00245]\n",
      "Epoch: 28: 100%|██████████| 8/8 [00:00<00:00, 106.41it/s, loss=0.000462]\n",
      "Epoch: 29: 100%|██████████| 8/8 [00:00<00:00, 106.04it/s, loss=0.00374]\n",
      "Epoch: 30: 100%|██████████| 8/8 [00:00<00:00, 64.62it/s, loss=0.00194]\n",
      "Epoch: 31: 100%|██████████| 8/8 [00:00<00:00, 90.38it/s, loss=0.00163]\n",
      "Epoch: 32: 100%|██████████| 8/8 [00:00<00:00, 110.89it/s, loss=0.00351]\n",
      "Epoch: 33: 100%|██████████| 8/8 [00:00<00:00, 69.37it/s, loss=0.0125] \n",
      "Epoch: 34: 100%|██████████| 8/8 [00:00<00:00, 60.33it/s, loss=0.013]  \n",
      "Epoch: 35: 100%|██████████| 8/8 [00:00<00:00, 115.18it/s, loss=0.00228]\n",
      "Epoch: 36: 100%|██████████| 8/8 [00:00<00:00, 103.11it/s, loss=0.012]\n",
      "Epoch: 37: 100%|██████████| 8/8 [00:00<00:00, 115.46it/s, loss=0.00459]\n",
      "Epoch: 38: 100%|██████████| 8/8 [00:00<00:00, 103.89it/s, loss=0.0022]\n",
      "Epoch: 39: 100%|██████████| 8/8 [00:00<00:00, 118.47it/s, loss=0.011]\n",
      "Epoch: 40: 100%|██████████| 8/8 [00:00<00:00, 123.53it/s, loss=0.00254]\n",
      "Epoch: 41: 100%|██████████| 8/8 [00:00<00:00, 129.81it/s, loss=0.0113]\n",
      "Epoch: 42: 100%|██████████| 8/8 [00:00<00:00, 81.92it/s, loss=0.00953]\n",
      "Epoch: 43: 100%|██████████| 8/8 [00:00<00:00, 132.93it/s, loss=0.00135]\n",
      "Epoch: 44: 100%|██████████| 8/8 [00:00<00:00, 115.96it/s, loss=0.0124]\n",
      "Epoch: 45: 100%|██████████| 8/8 [00:00<00:00, 58.17it/s, loss=0.00597] \n",
      "Epoch: 46: 100%|██████████| 8/8 [00:00<00:00, 129.28it/s, loss=0.00142]\n",
      "Epoch: 47: 100%|██████████| 8/8 [00:00<00:00, 121.83it/s, loss=0.00315]\n",
      "Epoch: 48: 100%|██████████| 8/8 [00:00<00:00, 130.48it/s, loss=0.00376]\n",
      "Epoch: 49: 100%|██████████| 8/8 [00:00<00:00, 107.96it/s, loss=0.00676]\n",
      "Epoch: 50: 100%|██████████| 8/8 [00:00<00:00, 102.08it/s, loss=0.00111]\n"
     ]
    }
   ],
   "source": [
    "from tqdm import tqdm\n",
    "\n",
    "predictor.train()\n",
    "\n",
    "criterion = nn.MSELoss()\n",
    "optimizer = torch.optim.Adam(predictor.parameters(), lr=1e-4, weight_decay=0)\n",
    "# optimizer = torch.optim.SGD(predictor.parameters(), lr=1e-4, momentum=0.8, weight_decay=1e-6)\n",
    "\n",
    "\n",
    "for epoch in range(50):\n",
    "    tqdm_dataloader = tqdm(train_dataloader, desc=f'Epoch: {epoch+1}')\n",
    "    for batch_X, batch_y in tqdm_dataloader:\n",
    "        batch_X, batch_y = batch_X.to(device), batch_y.to(device)\n",
    "        output = predictor(batch_X)\n",
    "        \n",
    "        loss = criterion(output, batch_y.unsqueeze(1))\n",
    "        loss_list.append(loss.item())\n",
    "        \n",
    "        optimizer.zero_grad()\n",
    "        loss.backward()\n",
    "        optimizer.step()\n",
    "        tqdm_dataloader.set_postfix(loss=loss.item())\n",
    "        # print(batch_X)\n",
    "        \n",
    "        # print(output.data)\n",
    "        # print(batch_y)\n",
    "        # print('-' * 50)"
   ]
  },
  {
   "cell_type": "code",
   "execution_count": 181,
   "metadata": {},
   "outputs": [
    {
     "data": {
      "image/png": "[encoded data removed]",
      "text/plain": [
       "<Figure size 400x200 with 1 Axes>"
      ]
     },
     "metadata": {},
     "output_type": "display_data"
    }
   ],
   "source": [
    "plt.figure(figsize=(4, 2))\n",
    "plt.plot(loss_list, label=\"Loss\")\n",
    "plt.title(\"Training Loss\")\n",
    "plt.xlabel(\"Iterations\")\n",
    "plt.ylabel(\"Loss\")\n",
    "plt.legend()\n",
    "\n",
    "plt.show()"
   ]
  },
  {
   "cell_type": "code",
   "execution_count": 105,
   "metadata": {},
   "outputs": [],
   "source": [
    "predictor.eval()\n",
    "\n",
    "def plot_predictions_dataloader(predictor, dataloader, device):\n",
    "    y, y_pred = [], []\n",
    "    with torch.no_grad():\n",
    "        for batch_X, batch_y in dataloader:\n",
    "            batch_X, batch_y = batch_X.to(device), batch_y.to(device)\n",
    "            output = predictor(batch_X)\n",
    "            y.extend(batch_y.cpu().numpy())\n",
    "            y_pred.extend(output.cpu().numpy())\n",
    "            \n",
    "    # sorted_values = sorted(zip(y, y_pred), reverse=True)\n",
    "    # y, y_pred = zip(*sorted_values)\n",
    "\n",
    "    plt.figure(figsize=(10, 5))\n",
    "    plt.plot(list(range(1, len(y)+1)), y, label=\"True\")\n",
    "    plt.scatter(list(range(1, len(y_pred)+1)), y_pred, label=\"Predicted\", color=\"orange\", s=2)\n",
    "    plt.title(\"Predictions\")\n",
    "    plt.xlabel(\"Number\")\n",
    "    plt.ylabel(\"Capacity (Ah)\")\n",
    "    plt.legend()\n",
    "    plt.show()"
   ]
  },
  {
   "cell_type": "code",
   "execution_count": 182,
   "metadata": {},
   "outputs": [
    {
     "data": {
      "image/png": "[encoded data removed]",
      "text/plain": [
       "<Figure size 1000x500 with 1 Axes>"
      ]
     },
     "metadata": {},
     "output_type": "display_data"
    }
   ],
   "source": [
    "# plot_predictions_dataloader(predictor, train_dataloader, device)\n",
    "# plot_predictions_dataloader(predictor, val_dataloader, device)\n",
    "\n",
    "plot_predictions_dataloader(predictor, dataloader, device)"
   ]
  },
  {
   "cell_type": "code",
   "execution_count": 185,
   "metadata": {},
   "outputs": [
    {
     "name": "stdout",
     "output_type": "stream",
     "text": [
      "Train MSE: 0.0036\n",
      "Train R2: 0.9154\n"
     ]
    }
   ],
   "source": [
    "# Metrics\n",
    "from sklearn.metrics import mean_squared_error, r2_score\n",
    "\n",
    "def calculate_metrics(predictor, dataloader, device):\n",
    "    y, y_pred = [], []\n",
    "    with torch.no_grad():\n",
    "        for batch_X, batch_y in dataloader:\n",
    "            batch_X, batch_y = batch_X.to(device), batch_y.to(device)\n",
    "            output = predictor(batch_X)\n",
    "            y.extend(batch_y.cpu().numpy())\n",
    "            y_pred.extend(output.cpu().numpy())\n",
    "    \n",
    "    mse = mean_squared_error(y, y_pred)\n",
    "    r2 = r2_score(y, y_pred)\n",
    "    return mse, r2\n",
    "\n",
    "mse_train, r2_train = calculate_metrics(predictor, train_dataloader, device)\n",
    "\n",
    "print(f\"Train MSE: {mse_train:.4f}\")\n",
    "print(f\"Train R2: {r2_train:.4f}\")"
   ]
  }
 ],
 "metadata": {
  "kernelspec": {
   "display_name": "battery",
   "language": "python",
   "name": "python3"
  },
  "language_info": {
   "codemirror_mode": {
    "name": "ipython",
    "version": 3
   },
   "file_extension": ".py",
   "mimetype": "text/x-python",
   "name": "python",
   "nbconvert_exporter": "python",
   "pygments_lexer": "ipython3",
   "version": "3.11.0"
  }
 },
 "nbformat": 4,
 "nbformat_minor": 2
}
