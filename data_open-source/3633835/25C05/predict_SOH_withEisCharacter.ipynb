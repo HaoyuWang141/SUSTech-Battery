{
 "cells": [
  {
   "cell_type": "code",
   "execution_count": 23,
   "metadata": {},
   "outputs": [
    {
     "name": "stdout",
     "output_type": "stream",
     "text": [
      "The autoreload extension is already loaded. To reload it, use:\n",
      "  %reload_ext autoreload\n"
     ]
    }
   ],
   "source": [
    "%load_ext autoreload\n",
    "%autoreload 2"
   ]
  },
  {
   "cell_type": "code",
   "execution_count": 24,
   "metadata": {},
   "outputs": [
    {
     "name": "stdout",
     "output_type": "stream",
     "text": [
      "cpu\n"
     ]
    }
   ],
   "source": [
    "import matplotlib.pyplot as plt\n",
    "import seaborn as sns\n",
    "import numpy as np\n",
    "import pandas as pd\n",
    "\n",
    "plt.style.use(style=\"seaborn-v0_8-talk\")\n",
    "sns.set_theme(style=\"darkgrid\")\n",
    "\n",
    "from battery_predictor_EIS import BatteryPredictor\n",
    "\n",
    "import torch\n",
    "import torch.nn as nn\n",
    "from torch.utils.data import Dataset, DataLoader, random_split\n",
    "from torchvision import transforms\n",
    "\n",
    "device = torch.device(\"cuda\" if torch.cuda.is_available() else \"cpu\")\n",
    "print(device)"
   ]
  },
  {
   "cell_type": "code",
   "execution_count": 25,
   "metadata": {},
   "outputs": [],
   "source": [
    "eis_curves = np.load('features_eis.npy')\n",
    "capacity = np.load('capacity.npy')"
   ]
  },
  {
   "cell_type": "code",
   "execution_count": 26,
   "metadata": {},
   "outputs": [
    {
     "name": "stdout",
     "output_type": "stream",
     "text": [
      "torch.float32 torch.float32\n",
      "torch.Size([125, 15]) torch.Size([125])\n"
     ]
    }
   ],
   "source": [
    "X = torch.tensor(eis_curves[:125]).to(device)\n",
    "y_true = torch.tensor(capacity[:125]).to(device)\n",
    "X = X.float()\n",
    "y_true = y_true.float()\n",
    "print(X.dtype, y_true.dtype)\n",
    "\n",
    "print(X.shape, y_true.shape)"
   ]
  },
  {
   "cell_type": "code",
   "execution_count": 27,
   "metadata": {},
   "outputs": [
    {
     "name": "stdout",
     "output_type": "stream",
     "text": [
      "torch.Size([125, 15]) torch.Size([125])\n"
     ]
    }
   ],
   "source": [
    "y_true = y_true[0:X.shape[0]]\n",
    "print(X.shape, y_true.shape)"
   ]
  },
  {
   "cell_type": "code",
   "execution_count": 28,
   "metadata": {},
   "outputs": [
    {
     "name": "stdout",
     "output_type": "stream",
     "text": [
      "tensor(-0.0074) tensor(1.2241)\n",
      "tensor(28.5791) tensor(37.2108)\n"
     ]
    }
   ],
   "source": [
    "print(X.min(), X.max())\n",
    "print(y_true.min(), y_true.max())"
   ]
  },
  {
   "cell_type": "code",
   "execution_count": 29,
   "metadata": {},
   "outputs": [],
   "source": [
    "class BatteryDataset(Dataset):\n",
    "    def __init__(self, X, y):\n",
    "        self.X = X\n",
    "        self.y = y\n",
    "\n",
    "    def __len__(self):\n",
    "        return len(self.X)\n",
    "\n",
    "    def __getitem__(self, idx):\n",
    "        return self.X[idx], self.y[idx]"
   ]
  },
  {
   "cell_type": "code",
   "execution_count": 30,
   "metadata": {},
   "outputs": [],
   "source": [
    "# 自定义归一化转换函数\n",
    "class Normalize(object):\n",
    "    def __call__(self, X, y):\n",
    "        X_normalized = (X - X.min()) / (X.max() - X.min())\n",
    "        y_normalized = (y - y.min()) / (y.max() - y.min())\n",
    "        return X_normalized, y_normalized"
   ]
  },
  {
   "cell_type": "code",
   "execution_count": 31,
   "metadata": {},
   "outputs": [],
   "source": [
    "def normalize_0_1(array):\n",
    "    min_value = torch.min(array, axis=0)[0]\n",
    "    max_value = torch.max(array, axis=0)[0]\n",
    "    normalized_array = (array - min_value) / (max_value - min_value)\n",
    "    return normalized_array"
   ]
  },
  {
   "cell_type": "code",
   "execution_count": 32,
   "metadata": {},
   "outputs": [],
   "source": [
    "def normalize_zscore(array):\n",
    "    mean = torch.mean(array, axis=0)\n",
    "    std = torch.std(array, axis=0)\n",
    "    normalized_array = (array - mean) / std\n",
    "    return normalized_array"
   ]
  },
  {
   "cell_type": "code",
   "execution_count": 33,
   "metadata": {},
   "outputs": [],
   "source": [
    "X_norm = normalize_0_1(X)\n",
    "y_norm = normalize_0_1(y_true)\n",
    "\n",
    "Y_MIN = torch.min(y_true, axis=0)[0].cpu().numpy()\n",
    "Y_MAX = torch.max(y_true, axis=0)[0].cpu().numpy()\n",
    "\n",
    "# X_norm = normalize_zscore(X)\n",
    "# y_norm = normalize_zscore(y)"
   ]
  },
  {
   "cell_type": "code",
   "execution_count": 34,
   "metadata": {},
   "outputs": [],
   "source": [
    "dataset = BatteryDataset(X_norm, y_norm)\n",
    "\n",
    "train_size = int(0.8 * len(dataset))\n",
    "val_size = len(dataset) - train_size\n",
    "train_dataset, val_dataset = random_split(dataset, [train_size, val_size])\n",
    "\n",
    "batch_size = 16\n",
    "dataloader = DataLoader(dataset, batch_size=batch_size, shuffle=False)\n",
    "train_dataloader = DataLoader(dataset, batch_size=batch_size, shuffle=True)\n",
    "val_dataloader = DataLoader(val_dataset, batch_size=batch_size, shuffle=False)\n",
    "\n",
    "# print(train_size, val_size)"
   ]
  },
  {
   "cell_type": "code",
   "execution_count": 35,
   "metadata": {},
   "outputs": [],
   "source": [
    "# 设置随机种子\n",
    "def set_seed(seed):\n",
    "    torch.manual_seed(seed)\n",
    "    # torch.cuda.manual_seed_all(seed)\n",
    "    np.random.seed(seed)\n",
    "    # random.seed(seed)\n",
    "    torch.backends.cudnn.deterministic = True\n",
    "    torch.backends.cudnn.benchmark = False\n"
   ]
  },
  {
   "cell_type": "code",
   "execution_count": 36,
   "metadata": {},
   "outputs": [],
   "source": [
    "set_seed(42)\n",
    "predictor = BatteryPredictor(X.shape[1])\n",
    "loss_list = []"
   ]
  },
  {
   "cell_type": "code",
   "execution_count": 37,
   "metadata": {},
   "outputs": [
    {
     "name": "stderr",
     "output_type": "stream",
     "text": [
      "Epoch: 1: 100%|██████████| 8/8 [00:00<00:00, 156.15it/s, loss=0.123]\n",
      "Epoch: 2: 100%|██████████| 8/8 [00:00<00:00, 191.55it/s, loss=0.116]\n",
      "Epoch: 3: 100%|██████████| 8/8 [00:00<00:00, 195.45it/s, loss=0.0395]\n",
      "Epoch: 4: 100%|██████████| 8/8 [00:00<00:00, 203.17it/s, loss=0.0431]\n",
      "Epoch: 5: 100%|██████████| 8/8 [00:00<00:00, 178.46it/s, loss=0.042]\n",
      "Epoch: 6: 100%|██████████| 8/8 [00:00<00:00, 182.21it/s, loss=0.0687]\n",
      "Epoch: 7: 100%|██████████| 8/8 [00:00<00:00, 198.11it/s, loss=0.0902]\n",
      "Epoch: 8: 100%|██████████| 8/8 [00:00<00:00, 199.78it/s, loss=0.032]\n",
      "Epoch: 9: 100%|██████████| 8/8 [00:00<00:00, 185.64it/s, loss=0.0752]\n",
      "Epoch: 10: 100%|██████████| 8/8 [00:00<00:00, 102.86it/s, loss=0.047]\n",
      "Epoch: 11: 100%|██████████| 8/8 [00:00<00:00, 196.38it/s, loss=0.0404]\n",
      "Epoch: 12: 100%|██████████| 8/8 [00:00<00:00, 196.87it/s, loss=0.0304]\n",
      "Epoch: 13: 100%|██████████| 8/8 [00:00<00:00, 181.67it/s, loss=0.0481]\n",
      "Epoch: 14: 100%|██████████| 8/8 [00:00<00:00, 196.79it/s, loss=0.0183]\n",
      "Epoch: 15: 100%|██████████| 8/8 [00:00<00:00, 181.13it/s, loss=0.0321]\n",
      "Epoch: 16: 100%|██████████| 8/8 [00:00<00:00, 138.16it/s, loss=0.0446]\n",
      "Epoch: 17: 100%|██████████| 8/8 [00:00<00:00, 141.88it/s, loss=0.0389]\n",
      "Epoch: 18: 100%|██████████| 8/8 [00:00<00:00, 177.93it/s, loss=0.0296]\n",
      "Epoch: 19: 100%|██████████| 8/8 [00:00<00:00, 98.23it/s, loss=0.0165]\n",
      "Epoch: 20: 100%|██████████| 8/8 [00:00<00:00, 176.67it/s, loss=0.0274]\n",
      "Epoch: 21: 100%|██████████| 8/8 [00:00<00:00, 197.89it/s, loss=0.00325]\n",
      "Epoch: 22: 100%|██████████| 8/8 [00:00<00:00, 197.15it/s, loss=0.0189]\n",
      "Epoch: 23: 100%|██████████| 8/8 [00:00<00:00, 153.54it/s, loss=0.0178]\n",
      "Epoch: 24: 100%|██████████| 8/8 [00:00<00:00, 122.26it/s, loss=0.00163]\n",
      "Epoch: 25: 100%|██████████| 8/8 [00:00<00:00, 185.97it/s, loss=0.00209]\n",
      "Epoch: 26: 100%|██████████| 8/8 [00:00<00:00, 196.24it/s, loss=0.00402]\n",
      "Epoch: 27: 100%|██████████| 8/8 [00:00<00:00, 165.35it/s, loss=0.0066]\n",
      "Epoch: 28: 100%|██████████| 8/8 [00:00<00:00, 92.21it/s, loss=0.00291]\n",
      "Epoch: 29: 100%|██████████| 8/8 [00:00<00:00, 200.97it/s, loss=0.0167]\n",
      "Epoch: 30: 100%|██████████| 8/8 [00:00<00:00, 166.65it/s, loss=0.002]\n",
      "Epoch: 31: 100%|██████████| 8/8 [00:00<00:00, 197.87it/s, loss=0.00171]\n",
      "Epoch: 32: 100%|██████████| 8/8 [00:00<00:00, 196.75it/s, loss=0.00407]\n",
      "Epoch: 33: 100%|██████████| 8/8 [00:00<00:00, 196.55it/s, loss=0.000981]\n",
      "Epoch: 34: 100%|██████████| 8/8 [00:00<00:00, 197.27it/s, loss=0.00097]\n",
      "Epoch: 35: 100%|██████████| 8/8 [00:00<00:00, 173.90it/s, loss=0.00128]\n",
      "Epoch: 36: 100%|██████████| 8/8 [00:00<00:00, 198.15it/s, loss=0.000871]\n",
      "Epoch: 37: 100%|██████████| 8/8 [00:00<00:00, 198.11it/s, loss=0.000573]\n",
      "Epoch: 38: 100%|██████████| 8/8 [00:00<00:00, 87.66it/s, loss=0.00088]\n",
      "Epoch: 39: 100%|██████████| 8/8 [00:00<00:00, 186.74it/s, loss=0.00795]\n",
      "Epoch: 40: 100%|██████████| 8/8 [00:00<00:00, 191.96it/s, loss=0.00105]\n",
      "Epoch: 41: 100%|██████████| 8/8 [00:00<00:00, 191.14it/s, loss=0.00685]\n",
      "Epoch: 42: 100%|██████████| 8/8 [00:00<00:00, 190.25it/s, loss=0.00133]\n",
      "Epoch: 43: 100%|██████████| 8/8 [00:00<00:00, 211.88it/s, loss=0.00193]\n",
      "Epoch: 44: 100%|██████████| 8/8 [00:00<00:00, 153.97it/s, loss=0.00221]\n",
      "Epoch: 45: 100%|██████████| 8/8 [00:00<00:00, 201.68it/s, loss=0.00195]\n",
      "Epoch: 46: 100%|██████████| 8/8 [00:00<00:00, 197.98it/s, loss=0.00109]\n",
      "Epoch: 47: 100%|██████████| 8/8 [00:00<00:00, 85.81it/s, loss=0.000725]\n",
      "Epoch: 48: 100%|██████████| 8/8 [00:00<00:00, 217.74it/s, loss=0.000619]\n",
      "Epoch: 49: 100%|██████████| 8/8 [00:00<00:00, 194.36it/s, loss=0.00549]\n",
      "Epoch: 50: 100%|██████████| 8/8 [00:00<00:00, 200.69it/s, loss=0.00132]\n"
     ]
    }
   ],
   "source": [
    "from tqdm import tqdm\n",
    "\n",
    "predictor.train()\n",
    "\n",
    "criterion = nn.MSELoss()\n",
    "optimizer = torch.optim.Adam(predictor.parameters(), lr=1e-4, weight_decay=0)\n",
    "# optimizer = torch.optim.SGD(predictor.parameters(), lr=1e-4, momentum=0.8, weight_decay=1e-6)\n",
    "\n",
    "\n",
    "for epoch in range(50):\n",
    "    tqdm_dataloader = tqdm(train_dataloader, desc=f'Epoch: {epoch+1}')\n",
    "    for batch_X, batch_y in tqdm_dataloader:\n",
    "        batch_X, batch_y = batch_X.to(device), batch_y.to(device)\n",
    "        output = predictor(batch_X)\n",
    "        \n",
    "        loss = criterion(output, batch_y.unsqueeze(1))\n",
    "        loss_list.append(loss.item())\n",
    "        \n",
    "        optimizer.zero_grad()\n",
    "        loss.backward()\n",
    "        optimizer.step()\n",
    "        tqdm_dataloader.set_postfix(loss=loss.item())\n",
    "        # print(batch_X)\n",
    "        \n",
    "        # print(output.data)\n",
    "        # print(batch_y)\n",
    "        # print('-' * 50)"
   ]
  },
  {
   "cell_type": "code",
   "execution_count": 38,
   "metadata": {},
   "outputs": [
    {
     "data": {
      "image/png": "[encoded data removed]",
      "text/plain": [
       "<Figure size 400x200 with 1 Axes>"
      ]
     },
     "metadata": {},
     "output_type": "display_data"
    }
   ],
   "source": [
    "plt.figure(figsize=(4, 2))\n",
    "plt.plot(loss_list, label=\"Loss\")\n",
    "plt.title(\"Training Loss\")\n",
    "plt.xlabel(\"Iterations\")\n",
    "plt.ylabel(\"Loss\")\n",
    "plt.legend()\n",
    "\n",
    "plt.show()"
   ]
  },
  {
   "cell_type": "code",
   "execution_count": 39,
   "metadata": {},
   "outputs": [],
   "source": [
    "predictor.eval()\n",
    "\n",
    "def plot_predictions_dataloader(y_true, y_pred):\n",
    "    plt.figure(figsize=(8, 5))\n",
    "    plt.plot(list(range(1, len(y_true)+1)), y_true, label=\"True\")\n",
    "    plt.scatter(list(range(1, len(y_pred)+1)), y_pred, label=\"Predicted\", color=\"orange\", s=2)\n",
    "    plt.title(\"Predictions of Capacity\", fontsize=18)\n",
    "    plt.xlabel(\"Cycle\", fontsize=16)\n",
    "    plt.ylabel(\"Capacity (mAh)\", fontsize=16)\n",
    "    plt.legend()\n",
    "    plt.show()"
   ]
  },
  {
   "cell_type": "code",
   "execution_count": 40,
   "metadata": {},
   "outputs": [],
   "source": [
    "y_true, y_pred = [], []\n",
    "with torch.no_grad():\n",
    "    for batch_X, batch_y in dataloader:\n",
    "        batch_X, batch_y = batch_X.to(device), batch_y.to(device)\n",
    "        output = predictor(batch_X)\n",
    "        y_true.extend(batch_y.cpu().numpy())\n",
    "        y_pred.extend(output.cpu().numpy())\n",
    "\n",
    "y_true = np.array(y_true)\n",
    "y_pred = np.array(y_pred)\n",
    "\n",
    "y_true = y_true * (Y_MAX - Y_MIN) + Y_MIN\n",
    "y_pred = y_pred * (Y_MAX - Y_MIN) + Y_MIN"
   ]
  },
  {
   "cell_type": "code",
   "execution_count": 41,
   "metadata": {},
   "outputs": [
    {
     "data": {
      "image/png": "[encoded data removed]",
      "text/plain": [
       "<Figure size 800x500 with 1 Axes>"
      ]
     },
     "metadata": {},
     "output_type": "display_data"
    }
   ],
   "source": [
    "plot_predictions_dataloader(y_true, y_pred)"
   ]
  },
  {
   "cell_type": "code",
   "execution_count": 42,
   "metadata": {},
   "outputs": [
    {
     "name": "stdout",
     "output_type": "stream",
     "text": [
      "Training Metrics\n",
      "RMSE: 0.4308\n",
      "MRE: 0.0091\n",
      "Validation Metrics\n",
      "RMSE: 0.3170\n",
      "MRE: 0.0078\n"
     ]
    }
   ],
   "source": [
    "# Metrics\n",
    "from sklearn.metrics import root_mean_squared_error\n",
    "\n",
    "\n",
    "def calculate_metrics(predictor, dataloader, device):\n",
    "    y_true, y_pred = [], []\n",
    "    with torch.no_grad():\n",
    "        for batch_X, batch_y in dataloader:\n",
    "            batch_X, batch_y = batch_X.to(device), batch_y.to(device)\n",
    "            output = predictor(batch_X)\n",
    "            y_true.extend(batch_y.cpu().numpy())\n",
    "            y_pred.extend(output.cpu().numpy())\n",
    "\n",
    "    y_true = np.array(y_true).flatten()\n",
    "    y_pred = np.array(y_pred).flatten()\n",
    "\n",
    "    y_true = y_true * (Y_MAX - Y_MIN) + Y_MIN\n",
    "    y_pred = y_pred * (Y_MAX - Y_MIN) + Y_MIN\n",
    "\n",
    "    rmse = root_mean_squared_error(y_true, y_pred)\n",
    "    mre = np.mean(np.abs((y_true - y_pred) / y_true))\n",
    "    return rmse, mre\n",
    "\n",
    "\n",
    "rmse_train, mre_train = calculate_metrics(predictor, train_dataloader, device)\n",
    "\n",
    "print(\"Training Metrics\")\n",
    "print(f\"RMSE: {rmse_train:.4f}\")\n",
    "print(f\"MRE: {mre_train:.4f}\")\n",
    "\n",
    "rmse_val, mre_val = calculate_metrics(predictor, val_dataloader, device)\n",
    "\n",
    "print(\"Validation Metrics\")\n",
    "print(f\"RMSE: {rmse_val:.4f}\")\n",
    "print(f\"MRE: {mre_val:.4f}\")"
   ]
  },
  {
   "cell_type": "code",
   "execution_count": 35,
   "metadata": {},
   "outputs": [],
   "source": [
    "np.save('capacity_pred.npy', y_pred.flatten())"
   ]
  }
 ],
 "metadata": {
  "kernelspec": {
   "display_name": "battery",
   "language": "python",
   "name": "python3"
  },
  "language_info": {
   "codemirror_mode": {
    "name": "ipython",
    "version": 3
   },
   "file_extension": ".py",
   "mimetype": "text/x-python",
   "name": "python",
   "nbconvert_exporter": "python",
   "pygments_lexer": "ipython3",
   "version": "3.11.0"
  }
 },
 "nbformat": 4,
 "nbformat_minor": 2
}
