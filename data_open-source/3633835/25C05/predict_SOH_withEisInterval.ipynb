{
 "cells": [
  {
   "cell_type": "code",
   "execution_count": 1,
   "metadata": {},
   "outputs": [],
   "source": [
    "%load_ext autoreload\n",
    "%autoreload 2"
   ]
  },
  {
   "cell_type": "code",
   "execution_count": 2,
   "metadata": {},
   "outputs": [
    {
     "name": "stdout",
     "output_type": "stream",
     "text": [
      "cpu\n"
     ]
    }
   ],
   "source": [
    "import matplotlib.pyplot as plt\n",
    "import seaborn as sns\n",
    "import numpy as np\n",
    "import pandas as pd\n",
    "\n",
    "plt.style.use(style=\"seaborn-v0_8-talk\")\n",
    "sns.set_theme(style=\"darkgrid\")\n",
    "\n",
    "from battery_predictor_EIS import BatteryPredictor\n",
    "\n",
    "import torch\n",
    "import torch.nn as nn\n",
    "from torch.utils.data import Dataset, DataLoader, random_split\n",
    "from torchvision import transforms\n",
    "\n",
    "device = torch.device(\"cuda\" if torch.cuda.is_available() else \"cpu\")\n",
    "print(device)"
   ]
  },
  {
   "cell_type": "code",
   "execution_count": 3,
   "metadata": {},
   "outputs": [],
   "source": [
    "eis_curves = np.load('features.npy')\n",
    "capacity = np.load('capacity.npy')"
   ]
  },
  {
   "cell_type": "code",
   "execution_count": 55,
   "metadata": {},
   "outputs": [
    {
     "name": "stdout",
     "output_type": "stream",
     "text": [
      "torch.float32 torch.float32\n",
      "torch.Size([125, 20]) torch.Size([125])\n"
     ]
    }
   ],
   "source": [
    "X = torch.tensor(eis_curves[:125]).to(device)\n",
    "y = torch.tensor(capacity[:125]).to(device)\n",
    "X = X.float()\n",
    "y = y.float()\n",
    "print(X.dtype, y.dtype)\n",
    "\n",
    "print(X.shape, y.shape)"
   ]
  },
  {
   "cell_type": "code",
   "execution_count": 56,
   "metadata": {},
   "outputs": [
    {
     "name": "stdout",
     "output_type": "stream",
     "text": [
      "torch.Size([125, 20]) torch.Size([125])\n"
     ]
    }
   ],
   "source": [
    "y = y[0:X.shape[0]]\n",
    "print(X.shape, y.shape)"
   ]
  },
  {
   "cell_type": "code",
   "execution_count": 57,
   "metadata": {},
   "outputs": [
    {
     "name": "stdout",
     "output_type": "stream",
     "text": [
      "tensor(0.3463) tensor(0.6458)\n",
      "tensor(28.5791) tensor(37.2108)\n"
     ]
    }
   ],
   "source": [
    "print(X.min(), X.max())\n",
    "print(y.min(), y.max())"
   ]
  },
  {
   "cell_type": "code",
   "execution_count": 58,
   "metadata": {},
   "outputs": [],
   "source": [
    "class BatteryDataset(Dataset):\n",
    "    def __init__(self, X, y):\n",
    "        self.X = X\n",
    "        self.y = y\n",
    "\n",
    "    def __len__(self):\n",
    "        return len(self.X)\n",
    "\n",
    "    def __getitem__(self, idx):\n",
    "        return self.X[idx], self.y[idx]"
   ]
  },
  {
   "cell_type": "code",
   "execution_count": 59,
   "metadata": {},
   "outputs": [],
   "source": [
    "def normalize_0_1(array):\n",
    "    min_value = torch.min(array, axis=0)[0]\n",
    "    max_value = torch.max(array, axis=0)[0]\n",
    "    normalized_array = (array - min_value) / (max_value - min_value)\n",
    "    return normalized_array"
   ]
  },
  {
   "cell_type": "code",
   "execution_count": 41,
   "metadata": {},
   "outputs": [],
   "source": [
    "def normalize_zscore(array):\n",
    "    mean = torch.mean(array, axis=0)\n",
    "    std = torch.std(array, axis=0)\n",
    "    normalized_array = (array - mean) / std\n",
    "    return normalized_array"
   ]
  },
  {
   "cell_type": "code",
   "execution_count": 60,
   "metadata": {},
   "outputs": [],
   "source": [
    "X_norm = normalize_0_1(X)\n",
    "y_norm = normalize_0_1(y)\n",
    "\n",
    "MIN_Y = torch.min(y, axis=0)[0].cpu().numpy()\n",
    "MAX_Y = torch.max(y, axis=0)[0].cpu().numpy()\n",
    "\n",
    "# X_norm = normalize_zscore(X)\n",
    "# y_norm = normalize_zscore(y)"
   ]
  },
  {
   "cell_type": "code",
   "execution_count": 73,
   "metadata": {},
   "outputs": [],
   "source": [
    "dataset = BatteryDataset(X_norm, y_norm)\n",
    "\n",
    "train_size = int(0.8 * len(dataset))\n",
    "val_size = len(dataset) - train_size\n",
    "train_dataset, val_dataset = random_split(dataset, [train_size, val_size])\n",
    "\n",
    "batch_size = 16\n",
    "dataloader = DataLoader(dataset, batch_size=batch_size, shuffle=False)\n",
    "train_dataloader = DataLoader(train_dataset, batch_size=batch_size, shuffle=True)\n",
    "val_dataloader = DataLoader(val_dataset, batch_size=batch_size, shuffle=False)\n",
    "\n",
    "# print(train_size, val_size)"
   ]
  },
  {
   "cell_type": "code",
   "execution_count": 74,
   "metadata": {},
   "outputs": [],
   "source": [
    "# 设置随机种子\n",
    "def set_seed(seed):\n",
    "    torch.manual_seed(seed)\n",
    "    # torch.cuda.manual_seed_all(seed)\n",
    "    np.random.seed(seed)\n",
    "    # random.seed(seed)\n",
    "    torch.backends.cudnn.deterministic = True\n",
    "    torch.backends.cudnn.benchmark = False\n"
   ]
  },
  {
   "cell_type": "code",
   "execution_count": 75,
   "metadata": {},
   "outputs": [],
   "source": [
    "set_seed(42)\n",
    "predictor = BatteryPredictor(X.shape[1])\n",
    "loss_list = []"
   ]
  },
  {
   "cell_type": "code",
   "execution_count": 76,
   "metadata": {},
   "outputs": [
    {
     "name": "stderr",
     "output_type": "stream",
     "text": [
      "Epoch: 1: 100%|██████████| 7/7 [00:00<00:00, 151.39it/s, loss=0.116]\n",
      "Epoch: 2: 100%|██████████| 7/7 [00:00<00:00, 162.47it/s, loss=0.0502]\n",
      "Epoch: 3: 100%|██████████| 7/7 [00:00<00:00, 163.72it/s, loss=0.0421]\n",
      "Epoch: 4: 100%|██████████| 7/7 [00:00<00:00, 157.96it/s, loss=0.0334]\n",
      "Epoch: 5: 100%|██████████| 7/7 [00:00<00:00, 173.64it/s, loss=0.0181]\n",
      "Epoch: 6: 100%|██████████| 7/7 [00:00<00:00, 174.74it/s, loss=0.0218]\n",
      "Epoch: 7: 100%|██████████| 7/7 [00:00<00:00, 157.89it/s, loss=0.0348]\n",
      "Epoch: 8: 100%|██████████| 7/7 [00:00<00:00, 103.97it/s, loss=0.0505]\n",
      "Epoch: 9: 100%|██████████| 7/7 [00:00<00:00, 163.29it/s, loss=0.0581]\n",
      "Epoch: 10: 100%|██████████| 7/7 [00:00<00:00, 152.63it/s, loss=0.113]\n",
      "Epoch: 11: 100%|██████████| 7/7 [00:00<00:00, 138.35it/s, loss=0.0312]\n",
      "Epoch: 12: 100%|██████████| 7/7 [00:00<00:00, 126.85it/s, loss=0.0237]\n",
      "Epoch: 13: 100%|██████████| 7/7 [00:00<00:00, 126.72it/s, loss=0.02]\n",
      "Epoch: 14: 100%|██████████| 7/7 [00:00<00:00, 135.80it/s, loss=0.0157]\n",
      "Epoch: 15: 100%|██████████| 7/7 [00:00<00:00, 127.70it/s, loss=0.0141]\n",
      "Epoch: 16: 100%|██████████| 7/7 [00:00<00:00, 117.59it/s, loss=0.0248]\n",
      "Epoch: 17: 100%|██████████| 7/7 [00:00<00:00, 120.93it/s, loss=0.0484]\n",
      "Epoch: 18: 100%|██████████| 7/7 [00:00<00:00, 134.33it/s, loss=0.0116]\n",
      "Epoch: 19: 100%|██████████| 7/7 [00:00<00:00, 91.97it/s, loss=0.0127]\n",
      "Epoch: 20: 100%|██████████| 7/7 [00:00<00:00, 131.42it/s, loss=0.0163]\n",
      "Epoch: 21: 100%|██████████| 7/7 [00:00<00:00, 125.09it/s, loss=0.00699]\n",
      "Epoch: 22: 100%|██████████| 7/7 [00:00<00:00, 122.17it/s, loss=0.0041]\n",
      "Epoch: 23: 100%|██████████| 7/7 [00:00<00:00, 125.12it/s, loss=0.000335]\n",
      "Epoch: 24: 100%|██████████| 7/7 [00:00<00:00, 126.11it/s, loss=0.000247]\n",
      "Epoch: 25: 100%|██████████| 7/7 [00:00<00:00, 130.55it/s, loss=0.00457]\n",
      "Epoch: 26: 100%|██████████| 7/7 [00:00<00:00, 118.00it/s, loss=0.00147]\n",
      "Epoch: 27: 100%|██████████| 7/7 [00:00<00:00, 133.14it/s, loss=0.000414]\n",
      "Epoch: 28: 100%|██████████| 7/7 [00:00<00:00, 130.81it/s, loss=0.0036]\n",
      "Epoch: 29: 100%|██████████| 7/7 [00:00<00:00, 96.36it/s, loss=0.000763]\n",
      "Epoch: 30: 100%|██████████| 7/7 [00:00<00:00, 132.60it/s, loss=0.00206]\n",
      "Epoch: 31: 100%|██████████| 7/7 [00:00<00:00, 130.00it/s, loss=0.000339]\n",
      "Epoch: 32: 100%|██████████| 7/7 [00:00<00:00, 131.75it/s, loss=0.0013]\n",
      "Epoch: 33: 100%|██████████| 7/7 [00:00<00:00, 145.60it/s, loss=0.000978]\n",
      "Epoch: 34: 100%|██████████| 7/7 [00:00<00:00, 153.49it/s, loss=0.000557]\n",
      "Epoch: 35: 100%|██████████| 7/7 [00:00<00:00, 140.31it/s, loss=0.000671]\n",
      "Epoch: 36: 100%|██████████| 7/7 [00:00<00:00, 126.68it/s, loss=0.00137]\n",
      "Epoch: 37: 100%|██████████| 7/7 [00:00<00:00, 116.77it/s, loss=0.000763]\n",
      "Epoch: 38: 100%|██████████| 7/7 [00:00<00:00, 89.52it/s, loss=0.00395]\n",
      "Epoch: 39: 100%|██████████| 7/7 [00:00<00:00, 144.72it/s, loss=0.0333]\n",
      "Epoch: 40: 100%|██████████| 7/7 [00:00<00:00, 147.74it/s, loss=0.000772]\n",
      "Epoch: 41: 100%|██████████| 7/7 [00:00<00:00, 148.82it/s, loss=0.000853]\n",
      "Epoch: 42: 100%|██████████| 7/7 [00:00<00:00, 151.76it/s, loss=0.000359]\n",
      "Epoch: 43: 100%|██████████| 7/7 [00:00<00:00, 136.35it/s, loss=0.000737]\n",
      "Epoch: 44: 100%|██████████| 7/7 [00:00<00:00, 139.34it/s, loss=0.000802]\n",
      "Epoch: 45: 100%|██████████| 7/7 [00:00<00:00, 152.15it/s, loss=0.000106]\n",
      "Epoch: 46: 100%|██████████| 7/7 [00:00<00:00, 133.13it/s, loss=0.000349]\n",
      "Epoch: 47: 100%|██████████| 7/7 [00:00<00:00, 137.34it/s, loss=0.000644]\n",
      "Epoch: 48: 100%|██████████| 7/7 [00:00<00:00, 103.71it/s, loss=0.00133]\n",
      "Epoch: 49: 100%|██████████| 7/7 [00:00<00:00, 158.94it/s, loss=0.000841]\n",
      "Epoch: 50: 100%|██████████| 7/7 [00:00<00:00, 164.27it/s, loss=0.00031]\n"
     ]
    }
   ],
   "source": [
    "from tqdm import tqdm\n",
    "\n",
    "predictor.train()\n",
    "\n",
    "criterion = nn.MSELoss()\n",
    "optimizer = torch.optim.Adam(predictor.parameters(), lr=1e-4, weight_decay=0)\n",
    "# optimizer = torch.optim.SGD(predictor.parameters(), lr=1e-4, momentum=0.8, weight_decay=1e-6)\n",
    "\n",
    "\n",
    "for epoch in range(50):\n",
    "    tqdm_dataloader = tqdm(train_dataloader, desc=f'Epoch: {epoch+1}')\n",
    "    for batch_X, batch_y in tqdm_dataloader:\n",
    "        batch_X, batch_y = batch_X.to(device), batch_y.to(device)\n",
    "        output = predictor(batch_X)\n",
    "        \n",
    "        loss = criterion(output, batch_y.unsqueeze(1))\n",
    "        loss_list.append(loss.item())\n",
    "        \n",
    "        optimizer.zero_grad()\n",
    "        loss.backward()\n",
    "        optimizer.step()\n",
    "        tqdm_dataloader.set_postfix(loss=loss.item())\n",
    "        # print(batch_X)\n",
    "        \n",
    "        # print(output.data)\n",
    "        # print(batch_y)\n",
    "        # print('-' * 50)"
   ]
  },
  {
   "cell_type": "code",
   "execution_count": 77,
   "metadata": {},
   "outputs": [
    {
     "data": {
      "image/png": "[encoded data removed]",
      "text/plain": [
       "<Figure size 400x200 with 1 Axes>"
      ]
     },
     "metadata": {},
     "output_type": "display_data"
    }
   ],
   "source": [
    "plt.figure(figsize=(4, 2))\n",
    "plt.plot(loss_list, label=\"Loss\")\n",
    "plt.title(\"Training Loss\")\n",
    "plt.xlabel(\"Iterations\")\n",
    "plt.ylabel(\"Loss\")\n",
    "plt.legend()\n",
    "\n",
    "plt.show()"
   ]
  },
  {
   "cell_type": "code",
   "execution_count": 78,
   "metadata": {},
   "outputs": [],
   "source": [
    "predictor.eval()\n",
    "\n",
    "def plot_predictions_dataloader(y_true, y_pred):\n",
    "    plt.figure(figsize=(8, 5))\n",
    "    plt.plot(list(range(1, len(y_true)+1)), y_true, label=\"True\")\n",
    "    plt.scatter(list(range(1, len(y_pred)+1)), y_pred, label=\"Predicted\", color=\"orange\", s=2)\n",
    "    plt.title(\"Predictions of Capacity\", fontsize=18)\n",
    "    plt.xlabel(\"Cycle\", fontsize=16)\n",
    "    plt.ylabel(\"Capacity (mAh)\", fontsize=16)\n",
    "    plt.legend()\n",
    "    plt.show()"
   ]
  },
  {
   "cell_type": "code",
   "execution_count": 79,
   "metadata": {},
   "outputs": [],
   "source": [
    "y_pred = []\n",
    "with torch.no_grad():\n",
    "    for batch_X, batch_y in dataloader:\n",
    "        batch_X, batch_y = batch_X.to(device), batch_y.to(device)\n",
    "        output = predictor(batch_X)\n",
    "        y_pred.extend(output.cpu().numpy())\n",
    "\n",
    "y_pred = np.array(y_pred)\n",
    "y_pred = y_pred * (MAX_Y - MIN_Y) + MIN_Y\n",
    "\n",
    "y_true = y.cpu().numpy()"
   ]
  },
  {
   "cell_type": "code",
   "execution_count": 80,
   "metadata": {},
   "outputs": [
    {
     "data": {
      "image/png": "[encoded data removed]",
      "text/plain": [
       "<Figure size 800x500 with 1 Axes>"
      ]
     },
     "metadata": {},
     "output_type": "display_data"
    }
   ],
   "source": [
    "plot_predictions_dataloader(y_true, y_pred)"
   ]
  },
  {
   "cell_type": "code",
   "execution_count": 82,
   "metadata": {},
   "outputs": [
    {
     "name": "stdout",
     "output_type": "stream",
     "text": [
      "Training Metrics\n",
      "RMSE: 0.4493\n",
      "MRE: 0.0093\n",
      "Validation Metrics\n",
      "RMSE: 0.6510\n",
      "MRE: 0.0123\n"
     ]
    }
   ],
   "source": [
    "# Metrics\n",
    "from sklearn.metrics import root_mean_squared_error\n",
    "\n",
    "\n",
    "def calculate_metrics(predictor, dataloader, device):\n",
    "    y_true, y_pred = [], []\n",
    "    with torch.no_grad():\n",
    "        for batch_X, batch_y in dataloader:\n",
    "            batch_X, batch_y = batch_X.to(device), batch_y.to(device)\n",
    "            output = predictor(batch_X)\n",
    "            y_true.extend(batch_y.cpu().numpy())\n",
    "            y_pred.extend(output.cpu().numpy())\n",
    "\n",
    "    y_true = np.array(y_true).flatten()\n",
    "    y_pred = np.array(y_pred).flatten()\n",
    "\n",
    "    y_true = y_true * (MAX_Y - MIN_Y) + MIN_Y\n",
    "    y_pred = y_pred * (MAX_Y - MIN_Y) + MIN_Y\n",
    "\n",
    "    rmse = root_mean_squared_error(y_true, y_pred)\n",
    "    mre = np.mean(np.abs((y_true - y_pred) / y_true))\n",
    "    return rmse, mre\n",
    "\n",
    "\n",
    "rmse_train, mre_train = calculate_metrics(predictor, train_dataloader, device)\n",
    "\n",
    "print(\"Training Metrics\")\n",
    "print(f\"RMSE: {rmse_train:.4f}\")\n",
    "print(f\"MRE: {mre_train:.4f}\")\n",
    "\n",
    "rmse_val, mre_val = calculate_metrics(predictor, val_dataloader, device)\n",
    "\n",
    "print(\"Validation Metrics\")\n",
    "print(f\"RMSE: {rmse_val:.4f}\")\n",
    "print(f\"MRE: {mre_val:.4f}\")"
   ]
  },
  {
   "cell_type": "code",
   "execution_count": 35,
   "metadata": {},
   "outputs": [],
   "source": [
    "np.save('capacity_pred.npy', y_pred.flatten())"
   ]
  }
 ],
 "metadata": {
  "kernelspec": {
   "display_name": "battery",
   "language": "python",
   "name": "python3"
  },
  "language_info": {
   "codemirror_mode": {
    "name": "ipython",
    "version": 3
   },
   "file_extension": ".py",
   "mimetype": "text/x-python",
   "name": "python",
   "nbconvert_exporter": "python",
   "pygments_lexer": "ipython3",
   "version": "3.11.0"
  }
 },
 "nbformat": 4,
 "nbformat_minor": 2
}
