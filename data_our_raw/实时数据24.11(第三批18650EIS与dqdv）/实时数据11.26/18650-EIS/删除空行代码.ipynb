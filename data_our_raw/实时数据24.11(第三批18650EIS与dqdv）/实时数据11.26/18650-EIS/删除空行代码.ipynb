{
 "cells": [
  {
   "cell_type": "code",
   "execution_count": 7,
   "id": "20adaa69",
   "metadata": {},
   "outputs": [
    {
     "name": "stdout",
     "output_type": "stream",
     "text": [
      "所有空行已成功删除并保存到 \"cleaned_file-3A-2.xlsx\"\n"
     ]
    }
   ],
   "source": [
    "import pandas as pd\n",
    "\n",
    "# 读取 Excel 文件\n",
    "file_path = '3A-2充放电.xlsx'  # 替换为文件路径\n",
    "\n",
    "# 读取所有 sheet 到一个字典中，key 为 sheet 名，value 为 DataFrame\n",
    "excel_data = pd.read_excel(file_path, sheet_name=None)\n",
    "\n",
    "# 创建一个新的 ExcelWriter 对象来保存修改后的内容\n",
    "output_file = 'cleaned_file-3A-2.xlsx'  # 输出文件名\n",
    "with pd.ExcelWriter(output_file, engine='openpyxl') as writer:\n",
    "    # 遍历每个 sheet 删除空行\n",
    "    for sheet_name, df in excel_data.items():\n",
    "        # 删除空行\n",
    "        df_cleaned = df.dropna(how='all')  # 删除所有列均为空的行\n",
    "        # 写入到新的 Excel 文件中\n",
    "        df_cleaned.to_excel(writer, sheet_name=sheet_name, index=False)\n",
    "\n",
    "print(f'所有空行已成功删除并保存到 \"{output_file}\"')\n"
   ]
  },
  {
   "cell_type": "code",
   "execution_count": null,
   "id": "455b5976",
   "metadata": {},
   "outputs": [],
   "source": []
  },
  {
   "cell_type": "code",
   "execution_count": null,
   "id": "ffd57fbe",
   "metadata": {},
   "outputs": [],
   "source": []
  },
  {
   "cell_type": "code",
   "execution_count": null,
   "id": "6332df6b",
   "metadata": {},
   "outputs": [],
   "source": []
  },
  {
   "cell_type": "code",
   "execution_count": null,
   "id": "26822557",
   "metadata": {},
   "outputs": [],
   "source": []
  },
  {
   "cell_type": "code",
   "execution_count": null,
   "id": "82f86e15",
   "metadata": {},
   "outputs": [],
   "source": []
  }
 ],
 "metadata": {
  "kernelspec": {
   "display_name": "Python 3",
   "language": "python",
   "name": "python3"
  },
  "language_info": {
   "codemirror_mode": {
    "name": "ipython",
    "version": 3
   },
   "file_extension": ".py",
   "mimetype": "text/x-python",
   "name": "python",
   "nbconvert_exporter": "python",
   "pygments_lexer": "ipython3",
   "version": "3.8.8"
  }
 },
 "nbformat": 4,
 "nbformat_minor": 5
}
